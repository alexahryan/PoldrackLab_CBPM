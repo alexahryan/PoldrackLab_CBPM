{
 "cells": [
  {
   "cell_type": "code",
   "execution_count": 1,
   "metadata": {},
   "outputs": [
    {
     "name": "stdout",
     "output_type": "stream",
     "text": [
      "\u001b[33mDEPRECATION: Python 2.7 reached the end of its life on January 1st, 2020. Please upgrade your Python as Python 2.7 is no longer maintained. pip 21.0 will drop support for Python 2.7 in January 2021. More details about Python 2 support in pip can be found at https://pip.pypa.io/en/latest/development/release-process/#python-2-support pip 21.0 will remove support for this functionality.\u001b[0m\n",
      "Defaulting to user installation because normal site-packages is not writeable\n",
      "Requirement already satisfied: pybids in /home/users/ahryan/.local/lib/python2.7/site-packages (0.9.5)\n",
      "Requirement already satisfied: bids-validator in /home/users/ahryan/.local/lib/python2.7/site-packages (from pybids) (1.13.1)\n",
      "Requirement already satisfied: nibabel>=2.1 in /home/users/ahryan/.local/lib/python2.7/site-packages (from pybids) (2.5.2)\n",
      "Requirement already satisfied: scipy in /share/software/user/open/py-scipystack/1.0_py27/lib/python2.7/site-packages (from pybids) (0.19.0)\n",
      "Requirement already satisfied: num2words in /home/users/ahryan/.local/lib/python2.7/site-packages (from pybids) (0.5.12)\n",
      "Requirement already satisfied: patsy in /home/users/ahryan/.local/lib/python2.7/site-packages (from pybids) (0.5.3)\n",
      "Requirement already satisfied: numpy in /share/software/user/open/py-scipystack/1.0_py27/lib/python2.7/site-packages (from pybids) (1.12.1)\n",
      "Requirement already satisfied: sqlalchemy in /home/users/ahryan/.local/lib/python2.7/site-packages (from pybids) (1.4.49)\n",
      "Collecting pandas>=0.23\n",
      "  Using cached pandas-0.24.2-cp27-cp27mu-manylinux1_x86_64.whl (10.1 MB)\n",
      "Requirement already satisfied: six>=1.3 in /share/software/user/open/py-scipystack/1.0_py27/lib/python2.7/site-packages (from nibabel>=2.1->pybids) (1.10.0)\n",
      "Requirement already satisfied: bz2file; python_version < \"3.0\" in /home/users/ahryan/.local/lib/python2.7/site-packages (from nibabel>=2.1->pybids) (0.98)\n",
      "Requirement already satisfied: docopt>=0.6.2 in /home/users/ahryan/.local/lib/python2.7/site-packages (from num2words->pybids) (0.6.2)\n",
      "Requirement already satisfied: importlib-metadata; python_version < \"3.8\" in /share/software/user/open/python/2.7.13/lib/python2.7/site-packages (from sqlalchemy->pybids) (2.1.3)\n",
      "Requirement already satisfied: python-dateutil>=2.5.0 in /share/software/user/open/py-scipystack/1.0_py27/lib/python2.7/site-packages (from pandas>=0.23->pybids) (2.6.0)\n",
      "Requirement already satisfied: pytz>=2011k in /share/software/user/open/py-scipystack/1.0_py27/lib/python2.7/site-packages (from pandas>=0.23->pybids) (2017.2)\n",
      "Requirement already satisfied: contextlib2; python_version < \"3\" in /share/software/user/open/python/2.7.13/lib/python2.7/site-packages (from importlib-metadata; python_version < \"3.8\"->sqlalchemy->pybids) (0.6.0.post1)\n",
      "Requirement already satisfied: zipp>=0.5 in /share/software/user/open/python/2.7.13/lib/python2.7/site-packages (from importlib-metadata; python_version < \"3.8\"->sqlalchemy->pybids) (1.2.0)\n",
      "Requirement already satisfied: configparser>=3.5; python_version < \"3\" in /share/software/user/open/py-scipystack/1.0_py27/lib/python2.7/site-packages (from importlib-metadata; python_version < \"3.8\"->sqlalchemy->pybids) (3.5.0)\n",
      "Requirement already satisfied: pathlib2; python_version < \"3\" in /share/software/user/open/py-scipystack/1.0_py27/lib/python2.7/site-packages (from importlib-metadata; python_version < \"3.8\"->sqlalchemy->pybids) (2.2.1)\n",
      "Requirement already satisfied: scandir; python_version < \"3.5\" in /share/software/user/open/py-scipystack/1.0_py27/lib/python2.7/site-packages (from pathlib2; python_version < \"3\"->importlib-metadata; python_version < \"3.8\"->sqlalchemy->pybids) (1.5)\n",
      "Installing collected packages: pandas\n",
      "Successfully installed pandas-0.24.2\n"
     ]
    }
   ],
   "source": [
    "!pip install pybids"
   ]
  },
  {
   "cell_type": "code",
   "execution_count": 2,
   "metadata": {},
   "outputs": [
    {
     "name": "stderr",
     "output_type": "stream",
     "text": [
      "/home/users/ahryan/.local/lib/python2.7/site-packages/nilearn/__init__.py:73: DeprecationWarning: Python2 support is deprecated and will be removed in the next release. Consider switching to Python 3.6 or 3.7.\n",
      "  _python_deprecation_warnings()\n"
     ]
    }
   ],
   "source": [
    "import os\n",
    "import numpy as np\n",
    "import pandas as pd\n",
    "from nilearn import input_data, connectome\n",
    "from nilearn.connectome import ConnectivityMeasure\n",
    "from nilearn import image as nimg\n",
    "import nibabel as nib\n",
    "import bids\n",
    "from bids import BIDSLayout\n",
    "import os.path as op\n",
    "from glob import glob"
   ]
  },
  {
   "cell_type": "code",
   "execution_count": 7,
   "metadata": {
    "collapsed": true
   },
   "outputs": [],
   "source": [
    "def get_confounds(confound_tsv,confounders,dt=True):\n",
    "    '''\n",
    "\n",
    "    Parameters\n",
    "    ----------\n",
    "    confound_tsv : path to confounds.tsv\n",
    "        \n",
    "    confounders : list of confounder variables to be extracted\n",
    "        \n",
    "    dt : compute temporal derivatives. The default is True.\n",
    "\n",
    "    Returns\n",
    "    -------\n",
    "    confound_mat : matrix of confounds\n",
    "\n",
    "    '''\n",
    "    if dt:\n",
    "        dt_names = ['{}_derivative1'.format(c) for c in confounders]\n",
    "        confounders = confounders + dt_names\n",
    "    \n",
    "    confound_df = pd.read_csv(confound_tsv,delimiter='/t')\n",
    "    confound_df = counfound_df[confounders]\n",
    "    confound_mat = confound_df.values\n",
    "    \n",
    "    return confound_mat"
   ]
  },
  {
   "cell_type": "code",
   "execution_count": 4,
   "metadata": {
    "collapsed": true
   },
   "outputs": [],
   "source": [
    "# Set the paths to the fMRI data, parcellation file, and output directory\n",
    "OAK = '/oak/stanford/groups/russpold'\n",
    "fmri_dir = op.join(OAK, 'data/uh2/aim1/BIDS')\n",
    "confound_dir = op.join(OAK, 'data/uh2/aim1/derivatives/fmriprep')\n",
    "subjects = [i.split('/')[-1] for i in glob(op.join(fmri_dir, 'sub-s*'))] \n",
    "derivatives = ['trans_x','trans_y','trans_z', 'rot_x','rot_y','rot_z','global_signal','csf', 'white_matter']\n",
    "#layout = bids.layout.BIDSLayout(root=fmri_dir, validate=False, derivatives=derivatives)\n",
    "parcellation_path = \"/home/users/ahryan/CBPM_PoldrackLab/tpl-MNI152NLin2009cAsym_res-01_atlas-smorgasbord_dseg.nii\"\n",
    "output_files = dict.fromkeys(subjects)\n",
    "for sub in subjects:\n",
    "    output_path = '/home/users/ahryan/CBPM_PoldrackLab/fc-data/'+sub+'.csv'\n",
    "    output_files[sub] = output_path"
   ]
  },
  {
   "cell_type": "code",
   "execution_count": 5,
   "metadata": {
    "collapsed": true
   },
   "outputs": [],
   "source": [
    "# Set the high-pass and low-pass filter cutoffs (in seconds)\n",
    "high_pass = 0.042  \n",
    "low_pass = 0.12\n",
    "\n",
    "# Set the masker settings\n",
    "smoothing_fwhm = 6  # Smoothing FWHM value in mm\n",
    "detrend = False      # Whether to detrend the time series signals\n",
    "standardize = True  # Whether to z-score the time series signals\n"
   ]
  },
  {
   "cell_type": "code",
   "execution_count": null,
   "metadata": {},
   "outputs": [],
   "source": [
    "task = 'rest'\n",
    "sessions = ['ses-1', 'ses-2']\n",
    "for sub in subjects:\n",
    "    for session in sessions:\n",
    "        #for task in tasks:\n",
    "        fmri_sub_dir = op.join(fmri_dir, sub, session, 'func')\n",
    "        confound_sub_dir = op.join(confound_dir, sub, session, 'func')    \n",
    "        func_file_name = sub+'_'+session+'_task-'+task+'_run-1_bold.nii.gz'\n",
    "        confound_file_name = sub+'_'+session+'_task-'+task+'_'+'run-1_desc-confounds_timeseries.tsv'\n",
    "        func_file = os.path.join(fmri_sub_dir, func_file_name)\n",
    "        confound_file = os.path.join(confound_sub_dir, confound_file_name)\n",
    "        #if os.path.exists(confound_file):\n",
    "            #confound_df = pd.read_csv(confound_file, delimiter='\\t')\n",
    "        raw_func_img = nimg.load_img(func_file)\n",
    "        tr_drop = 4\n",
    "        func_img = raw_func_img.slicer[:,:,:,tr_drop:]\n",
    "        confounds = get_confounds(confound_file, derivatives)\n",
    "        confounds = confounds[tr_drop:,:]\n",
    "        parcellation_img = input_data.parcellations.load_parcellation(parcellation_path)\n",
    "        masker = input_data.NiftiLabelsMasker(labels_img=parcellation_img,\n",
    "                                            standardize=standardize,\n",
    "                                              detrend=detrend,\n",
    "                                              smoothing_fwhm=smoothing_fwhm,\n",
    "                                              high_pass=high_pass,\n",
    "                                              low_pass=low_pass)\n",
    "        # Apply the masker to extract  time series signals from the fMRI data\n",
    "        time_series = masker.fit_transform(func_img, confounds=confounds)\n",
    "    \n",
    "        # Calculate the functional connectivity matrix\n",
    "        correlation_measure = ConnectivityMeasure(kind='correlation')\n",
    "        functional_connectivity = correlation_measure.fit_transform([time_series])\n",
    "\n",
    "        # Convert the functional connectivity matrix to a pandas DataFrame\n",
    "        fc_matrix = pd.DataFrame(functional_connectivity)\n",
    "\n",
    "        # Save the functional connectivity matrix to a CSV file\n",
    "        fc_matrix.to_csv(output_files[sub], index=False)"
   ]
  }
 ],
 "metadata": {
  "kernelspec": {
   "display_name": "Python 2",
   "language": "python",
   "name": "python2"
  },
  "language_info": {
   "codemirror_mode": {
    "name": "ipython",
    "version": 2
   },
   "file_extension": ".py",
   "mimetype": "text/x-python",
   "name": "python",
   "nbconvert_exporter": "python",
   "pygments_lexer": "ipython2",
   "version": "2.7.13"
  },
  "metadata": {
   "interpreter": {
    "hash": "b97f1a723b8064ba7f229bf53ace1d029c3a03ad01a9fc3296378de769af9f04"
   }
  }
 },
 "nbformat": 4,
 "nbformat_minor": 4
}
