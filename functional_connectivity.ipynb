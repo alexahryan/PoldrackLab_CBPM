{
 "cells": [
  {
   "cell_type": "code",
   "execution_count": 1,
   "id": "51efd829-deca-4bb7-bd43-5205678886c7",
   "metadata": {},
   "outputs": [
    {
     "ename": "ModuleNotFoundError",
     "evalue": "No module named 'bids'",
     "output_type": "error",
     "traceback": [
      "\u001b[0;31m---------------------------------------------------------------------------\u001b[0m",
      "\u001b[0;31mModuleNotFoundError\u001b[0m                       Traceback (most recent call last)",
      "\u001b[0;32m/var/folders/nc/k7lltl5n2_jfwn6mfhn6q4tm0000gn/T/ipykernel_1661/4158830622.py\u001b[0m in \u001b[0;36m<module>\u001b[0;34m\u001b[0m\n\u001b[1;32m      3\u001b[0m \u001b[0;32mimport\u001b[0m \u001b[0mnumpy\u001b[0m \u001b[0;32mas\u001b[0m \u001b[0mnp\u001b[0m\u001b[0;34m\u001b[0m\u001b[0;34m\u001b[0m\u001b[0m\n\u001b[1;32m      4\u001b[0m \u001b[0;32mimport\u001b[0m \u001b[0mpandas\u001b[0m \u001b[0;32mas\u001b[0m \u001b[0mpd\u001b[0m\u001b[0;34m\u001b[0m\u001b[0;34m\u001b[0m\u001b[0m\n\u001b[0;32m----> 5\u001b[0;31m \u001b[0;32mfrom\u001b[0m \u001b[0mbids\u001b[0m \u001b[0;32mimport\u001b[0m \u001b[0mBIDSLayout\u001b[0m\u001b[0;34m\u001b[0m\u001b[0;34m\u001b[0m\u001b[0m\n\u001b[0m",
      "\u001b[0;31mModuleNotFoundError\u001b[0m: No module named 'bids'"
     ]
    }
   ],
   "source": [
    "from nilearn import image as nimg\n",
    "from nilearn import plotting as nplot\n",
    "import numpy as np\n",
    "import pandas as pd\n",
    "from bids import BIDSLayout"
   ]
  },
  {
   "cell_type": "code",
   "execution_count": null,
   "id": "11c7b01c-affe-461f-9ef0-959be634db7c",
   "metadata": {},
   "outputs": [],
   "source": [
    "#inputs\n",
    "fmriprep_dir=''\n",
    "\n",
    "layout = BIDSLayout(fmriprep_dir,\n",
    "                    config=['bids', 'derivatives'])"
   ]
  },
  {
   "cell_type": "code",
   "execution_count": null,
   "id": "3491bb8a-596b-4a69-8bc0-d6dca6ee02ba",
   "metadata": {},
   "outputs": [],
   "source": [
    "#load in parcellation\n",
    "parcel_file = 'tpl-MNI152NLin2009cAsym_res-01_atlas-smorgasbord_dseg.nii.gz'\n",
    "smorgasbord = nimg.load_img(parcel_file)\n",
    "\n",
    "mask_labels = open('tpl-MNI152NLin2009cAsym_res-01_atlas-smorgasbord_dseg.tsv')\n",
    "\n",
    "\n",
    "mask_labels = mask_labels.read().split('\\n')\n",
    "for idx, row in enumerate(mask_labels):\n",
    "    mask_labels[idx] = mask_labels[idx].split('\\t')"
   ]
  },
  {
   "cell_type": "code",
   "execution_count": null,
   "id": "658aae8d-e459-4ea4-a9ff-8b7a5d891284",
   "metadata": {},
   "outputs": [],
   "source": [
    "#masker\n",
    "from nilearn import input_data\n",
    "\n",
    "\n",
    "masker = input_data.NiftiLabelsMasker(labels_img=smorgasbord,\n",
    "                                      standardize=True,\n",
    "                                      memory='nilearn_cache',\n",
    "                                      verbose=5,\n",
    "                                      detrend=False,\n",
    "                                     low_pass = 0.125,\n",
    "                                     high_pass = 0.042,\n",
    "                                     t_r=1.0)"
   ]
  }
 ],
 "metadata": {
  "kernelspec": {
   "display_name": "Python 3 (ipykernel)",
   "language": "python",
   "name": "python3"
  },
  "language_info": {
   "codemirror_mode": {
    "name": "ipython",
    "version": 3
   },
   "file_extension": ".py",
   "mimetype": "text/x-python",
   "name": "python",
   "nbconvert_exporter": "python",
   "pygments_lexer": "ipython3",
   "version": "3.9.7"
  }
 },
 "nbformat": 4,
 "nbformat_minor": 5
}
